{
  "nbformat": 4,
  "nbformat_minor": 0,
  "metadata": {
    "colab": {
      "provenance": [],
      "machine_shape": "hm",
      "gpuType": "L4",
      "authorship_tag": "ABX9TyPYkDo2LxuHWNSUwkyXVsiP"
    },
    "kernelspec": {
      "name": "python3",
      "display_name": "Python 3"
    },
    "language_info": {
      "name": "python"
    },
    "accelerator": "GPU"
  },
  "cells": [
    {
      "cell_type": "markdown",
      "source": [
        "### CNN.c is a C library for creating CUDA-optimized Convolutional Neural Networks.\n",
        "\n",
        "### Using this library\n",
        "We want to make using this library as easy as possible.\n",
        "\n",
        "First we'll start with a few prerequisites:\n",
        "\n",
        "1. make\n",
        "2. gcc\n",
        "3.\n",
        "\n",
        "In a C program,\n"
      ],
      "metadata": {
        "id": "ZPCK0c1YFBIA"
      }
    },
    {
      "cell_type": "code",
      "source": [],
      "metadata": {
        "id": "GVIYPAm6ILE5"
      },
      "execution_count": null,
      "outputs": []
    },
    {
      "cell_type": "code",
      "source": [
        "!mkdir src\n",
        "!mkdir src/core\n",
        "!mkdir src/layers\n",
        "!mkdir src/math\n",
        "!mkdir src/optimizers\n",
        "!mkdir src/cuda\n",
        "!mkdir src/utils\n",
        "!touch src/core/cnn.c\n",
        "!touch src/core/network.c\n",
        "!touch src/core/training.c\n",
        "!touch src/layers/convolutional.c\n",
        "!touch src/layers/pooling.c\n",
        "!touch src/layers/fully_connected.c\n",
        "!touch src/layers/activation.c"
      ],
      "metadata": {
        "id": "3V-5-JGmAlY5",
        "colab": {
          "base_uri": "https://localhost:8080/"
        },
        "outputId": "55b7ab16-72f7-40eb-9ebe-8b1f8d5e1abd"
      },
      "execution_count": 10,
      "outputs": [
        {
          "output_type": "stream",
          "name": "stdout",
          "text": [
            "mkdir: cannot create directory ‘src’: File exists\n",
            "mkdir: cannot create directory ‘src/core’: File exists\n",
            "mkdir: cannot create directory ‘src/layers’: File exists\n",
            "mkdir: cannot create directory ‘src/math’: File exists\n",
            "mkdir: cannot create directory ‘src/optimizers’: File exists\n",
            "mkdir: cannot create directory ‘src/cuda’: File exists\n",
            "mkdir: cannot create directory ‘src/utils’: File exists\n"
          ]
        }
      ]
    },
    {
      "cell_type": "code",
      "source": [
        "!mkdir include\n",
        "!mkdir include/core\n",
        "!mkdir include/layers\n",
        "!mkdir include/math\n",
        "!mkdir include/optimizers\n",
        "!mkdir include/cuda\n",
        "!mkdir include/utils\n",
        "!touch include/cnn.h\n",
        "!touch include/network.h\n",
        "!touch include/training.h\n",
        "!touch layers/convolutional.h\n",
        "!touch layers/pooling.h\n",
        "!touch layers/fully_connected.h"
      ],
      "metadata": {
        "colab": {
          "base_uri": "https://localhost:8080/"
        },
        "id": "0hBg-UMmHSEm",
        "outputId": "6a41511c-2075-4f81-df18-72429a1f8ab8"
      },
      "execution_count": 11,
      "outputs": [
        {
          "output_type": "stream",
          "name": "stdout",
          "text": [
            "touch: cannot touch 'layers/convolutional.h': No such file or directory\n",
            "touch: cannot touch 'layers/pooling.h': No such file or directory\n",
            "touch: cannot touch 'layers/fully_connected.h': No such file or directory\n"
          ]
        }
      ]
    },
    {
      "cell_type": "code",
      "source": [
        "!mkdir tests\n",
        "!touch tests/test_cnn.c"
      ],
      "metadata": {
        "colab": {
          "base_uri": "https://localhost:8080/"
        },
        "id": "_-yvZOo3HWbq",
        "outputId": "0e208663-7fa4-4e4b-8e51-2794ff3c3ab8"
      },
      "execution_count": 12,
      "outputs": [
        {
          "output_type": "stream",
          "name": "stdout",
          "text": [
            "mkdir: cannot create directory ‘tests’: File exists\n"
          ]
        }
      ]
    },
    {
      "cell_type": "code",
      "source": [
        "!ls src"
      ],
      "metadata": {
        "colab": {
          "base_uri": "https://localhost:8080/"
        },
        "id": "K1LK9fnJHMCY",
        "outputId": "32e9a01f-3c61-4174-c654-79eb0c4cdaa1"
      },
      "execution_count": 7,
      "outputs": [
        {
          "output_type": "stream",
          "name": "stdout",
          "text": [
            "core  cuda  layers  math  optimizers  utils\n"
          ]
        }
      ]
    },
    {
      "cell_type": "code",
      "source": [
        "%%writefile cuda_kernel.cu\n",
        "#include <stdio.h>\n",
        "\n",
        "__global__ void hello_cuda() {\n",
        "    printf(\"Hello from CUDA!\\n\");\n",
        "}\n",
        "\n",
        "int main() {\n",
        "    hello_cuda<<<1, 1>>>();\n",
        "    cudaDeviceSynchronize();\n",
        "    return 0;\n",
        "}"
      ],
      "metadata": {
        "colab": {
          "base_uri": "https://localhost:8080/"
        },
        "id": "43vJo_SpGnUF",
        "outputId": "4dcac805-4d96-47dd-ee37-ac3af54a1651"
      },
      "execution_count": 3,
      "outputs": [
        {
          "output_type": "stream",
          "name": "stdout",
          "text": [
            "Writing cuda_kernel.cu\n"
          ]
        }
      ]
    },
    {
      "cell_type": "code",
      "source": [
        "!nvcc cuda_kernel.cu -o cuda_kernel\n",
        "!./cuda_kernel"
      ],
      "metadata": {
        "colab": {
          "base_uri": "https://localhost:8080/"
        },
        "id": "5o6qY0DGGpxz",
        "outputId": "a52d8495-3898-48ff-fe19-12596fac2502"
      },
      "execution_count": 4,
      "outputs": [
        {
          "output_type": "stream",
          "name": "stdout",
          "text": [
            "Hello from CUDA!\n"
          ]
        }
      ]
    },
    {
      "cell_type": "code",
      "execution_count": null,
      "metadata": {
        "colab": {
          "base_uri": "https://localhost:8080/"
        },
        "id": "HDF2815PvwSo",
        "outputId": "d3b2f68a-8bfb-41e4-abc0-5068c285133b"
      },
      "outputs": [
        {
          "output_type": "stream",
          "name": "stdout",
          "text": [
            "Writing vector_add.cu\n"
          ]
        }
      ],
      "source": [
        "%%writefile vector_add.cu\n",
        "#include <stdio.h>\n",
        "\n",
        "__global__ void vectorAdd(float *a, float *b, float *c, int n) {\n",
        "    int i = blockIdx.x * blockDim.x + threadIdx.x;\n",
        "    if (i < n) {\n",
        "        c[i] = a[i] + b[i];\n",
        "    }\n",
        "}\n",
        "\n",
        "int main() {\n",
        "    int n = 1000000;\n",
        "    size_t size = n * sizeof(float);\n",
        "\n",
        "    float *h_a = (float *)malloc(size);\n",
        "    float *h_b = (float *)malloc(size);\n",
        "    float *h_c = (float *)malloc(size);\n",
        "\n",
        "    for (int i = 0; i < n; i++) {\n",
        "        h_a[i] = rand() / (float)RAND_MAX;\n",
        "        h_b[i] = rand() / (float)RAND_MAX;\n",
        "    }\n",
        "\n",
        "    float *d_a, *d_b, *d_c;\n",
        "    cudaMalloc(&d_a, size);\n",
        "    cudaMalloc(&d_b, size);\n",
        "    cudaMalloc(&d_c, size);\n",
        "\n",
        "    cudaMemcpy(d_a, h_a, size, cudaMemcpyHostToDevice);\n",
        "    cudaMemcpy(d_b, h_b, size, cudaMemcpyHostToDevice);\n",
        "\n",
        "    int blockSize = 256;\n",
        "    int numBlocks = (n + blockSize - 1) / blockSize;\n",
        "    vectorAdd<<<numBlocks, blockSize>>>(d_a, d_b, d_c, n);\n",
        "\n",
        "    cudaMemcpy(h_c, d_c, size, cudaMemcpyDeviceToHost);\n",
        "\n",
        "    for (int i = 0; i < 10; i++) {\n",
        "        printf(\"%f + %f = %f\\n\", h_a[i], h_b[i], h_c[i]);\n",
        "    }\n",
        "\n",
        "    cudaFree(d_a);\n",
        "    cudaFree(d_b);\n",
        "    cudaFree(d_c);\n",
        "    free(h_a);\n",
        "    free(h_b);\n",
        "    free(h_c);\n",
        "\n",
        "    return 0;\n",
        "}"
      ]
    },
    {
      "cell_type": "code",
      "source": [
        "!nvcc vector_add.cu -o vector_add\n",
        "!./vector_add"
      ],
      "metadata": {
        "id": "vdrnmEkpwBk7",
        "outputId": "99eb26c7-a38b-408c-bf0e-d6649d8544a8",
        "colab": {
          "base_uri": "https://localhost:8080/"
        }
      },
      "execution_count": null,
      "outputs": [
        {
          "output_type": "stream",
          "name": "stdout",
          "text": [
            "0.840188 + 0.394383 = 1.234571\n",
            "0.783099 + 0.798440 = 1.581539\n",
            "0.911647 + 0.197551 = 1.109199\n",
            "0.335223 + 0.768230 = 1.103452\n",
            "0.277775 + 0.553970 = 0.831745\n",
            "0.477397 + 0.628871 = 1.106268\n",
            "0.364784 + 0.513401 = 0.878185\n",
            "0.952230 + 0.916195 = 1.868425\n",
            "0.635712 + 0.717297 = 1.353009\n",
            "0.141603 + 0.606969 = 0.748571\n"
          ]
        }
      ]
    },
    {
      "cell_type": "code",
      "source": [],
      "metadata": {
        "id": "KzK5SDovJYje"
      },
      "execution_count": null,
      "outputs": []
    },
    {
      "cell_type": "code",
      "source": [],
      "metadata": {
        "id": "-NR1ZwIJWl6t"
      },
      "execution_count": null,
      "outputs": []
    }
  ]
}