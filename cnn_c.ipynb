{
  "nbformat": 4,
  "nbformat_minor": 0,
  "metadata": {
    "colab": {
      "provenance": [],
      "machine_shape": "hm",
      "gpuType": "L4",
      "authorship_tag": "ABX9TyNPPrHuiRMI6YnEgEfVuGKL",
      "include_colab_link": true
    },
    "kernelspec": {
      "name": "python3",
      "display_name": "Python 3"
    },
    "language_info": {
      "name": "python"
    },
    "accelerator": "GPU"
  },
  "cells": [
    {
      "cell_type": "markdown",
      "metadata": {
        "id": "view-in-github",
        "colab_type": "text"
      },
      "source": [
        "<a href=\"https://colab.research.google.com/github/benamiller/cnn.c/blob/main/cnn_c.ipynb\" target=\"_parent\"><img src=\"https://colab.research.google.com/assets/colab-badge.svg\" alt=\"Open In Colab\"/></a>"
      ]
    },
    {
      "cell_type": "code",
      "source": [
        "!mkdir src\n",
        "!mkdir layers\n",
        "!mkdir utils"
      ],
      "metadata": {
        "id": "3V-5-JGmAlY5"
      },
      "execution_count": null,
      "outputs": []
    },
    {
      "cell_type": "code",
      "execution_count": null,
      "metadata": {
        "colab": {
          "base_uri": "https://localhost:8080/"
        },
        "id": "HDF2815PvwSo",
        "outputId": "d3b2f68a-8bfb-41e4-abc0-5068c285133b"
      },
      "outputs": [
        {
          "output_type": "stream",
          "name": "stdout",
          "text": [
            "Writing vector_add.cu\n"
          ]
        }
      ],
      "source": [
        "%%writefile vector_add.cu\n",
        "#include <stdio.h>\n",
        "\n",
        "__global__ void vectorAdd(float *a, float *b, float *c, int n) {\n",
        "    int i = blockIdx.x * blockDim.x + threadIdx.x;\n",
        "    if (i < n) {\n",
        "        c[i] = a[i] + b[i];\n",
        "    }\n",
        "}\n",
        "\n",
        "int main() {\n",
        "    int n = 1000000;\n",
        "    size_t size = n * sizeof(float);\n",
        "\n",
        "    float *h_a = (float *)malloc(size);\n",
        "    float *h_b = (float *)malloc(size);\n",
        "    float *h_c = (float *)malloc(size);\n",
        "\n",
        "    for (int i = 0; i < n; i++) {\n",
        "        h_a[i] = rand() / (float)RAND_MAX;\n",
        "        h_b[i] = rand() / (float)RAND_MAX;\n",
        "    }\n",
        "\n",
        "    float *d_a, *d_b, *d_c;\n",
        "    cudaMalloc(&d_a, size);\n",
        "    cudaMalloc(&d_b, size);\n",
        "    cudaMalloc(&d_c, size);\n",
        "\n",
        "    cudaMemcpy(d_a, h_a, size, cudaMemcpyHostToDevice);\n",
        "    cudaMemcpy(d_b, h_b, size, cudaMemcpyHostToDevice);\n",
        "\n",
        "    int blockSize = 256;\n",
        "    int numBlocks = (n + blockSize - 1) / blockSize;\n",
        "    vectorAdd<<<numBlocks, blockSize>>>(d_a, d_b, d_c, n);\n",
        "\n",
        "    cudaMemcpy(h_c, d_c, size, cudaMemcpyDeviceToHost);\n",
        "\n",
        "    for (int i = 0; i < 10; i++) {\n",
        "        printf(\"%f + %f = %f\\n\", h_a[i], h_b[i], h_c[i]);\n",
        "    }\n",
        "\n",
        "    cudaFree(d_a);\n",
        "    cudaFree(d_b);\n",
        "    cudaFree(d_c);\n",
        "    free(h_a);\n",
        "    free(h_b);\n",
        "    free(h_c);\n",
        "\n",
        "    return 0;\n",
        "}"
      ]
    },
    {
      "cell_type": "code",
      "source": [
        "!nvcc vector_add.cu -o vector_add\n",
        "!./vector_add"
      ],
      "metadata": {
        "id": "vdrnmEkpwBk7",
        "outputId": "99eb26c7-a38b-408c-bf0e-d6649d8544a8",
        "colab": {
          "base_uri": "https://localhost:8080/"
        }
      },
      "execution_count": null,
      "outputs": [
        {
          "output_type": "stream",
          "name": "stdout",
          "text": [
            "0.840188 + 0.394383 = 1.234571\n",
            "0.783099 + 0.798440 = 1.581539\n",
            "0.911647 + 0.197551 = 1.109199\n",
            "0.335223 + 0.768230 = 1.103452\n",
            "0.277775 + 0.553970 = 0.831745\n",
            "0.477397 + 0.628871 = 1.106268\n",
            "0.364784 + 0.513401 = 0.878185\n",
            "0.952230 + 0.916195 = 1.868425\n",
            "0.635712 + 0.717297 = 1.353009\n",
            "0.141603 + 0.606969 = 0.748571\n"
          ]
        }
      ]
    },
    {
      "cell_type": "code",
      "source": [],
      "metadata": {
        "id": "KzK5SDovJYje"
      },
      "execution_count": null,
      "outputs": []
    },
    {
      "cell_type": "code",
      "source": [],
      "metadata": {
        "id": "-NR1ZwIJWl6t"
      },
      "execution_count": null,
      "outputs": []
    }
  ]
}